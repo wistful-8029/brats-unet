{
 "cells": [
  {
   "cell_type": "code",
   "execution_count": 1,
   "metadata": {
    "collapsed": true,
    "ExecuteTime": {
     "end_time": "2024-03-25T00:29:34.256046700Z",
     "start_time": "2024-03-25T00:29:34.049718300Z"
    }
   },
   "outputs": [
    {
     "data": {
      "text/plain": "'/mnt/sda3/yigedabuliu/lkq/brats-unet'"
     },
     "execution_count": 1,
     "metadata": {},
     "output_type": "execute_result"
    }
   ],
   "source": [
    "import h5py\n",
    "import os\n",
    "import numpy as np\n",
    "import SimpleITK as sitk\n",
    "from tqdm import tqdm\n",
    "\n",
    "os.chdir('/mnt/sda3/yigedabuliu/lkq/brats-unet/')\n",
    "os.getcwd()"
   ]
  },
  {
   "cell_type": "code",
   "execution_count": 2,
   "outputs": [],
   "source": [
    "from torch.utils.data import Dataset\n",
    "from torchvision.transforms import transforms\n",
    "from torch.utils.data import DataLoader\n",
    "from BraTS import *"
   ],
   "metadata": {
    "collapsed": false,
    "ExecuteTime": {
     "end_time": "2024-03-25T00:29:35.946765100Z",
     "start_time": "2024-03-25T00:29:34.255045400Z"
    }
   }
  },
  {
   "cell_type": "code",
   "execution_count": 4,
   "outputs": [],
   "source": [
    "\n",
    "class BraTS_SingleModal(Dataset):\n",
    "    def __init__(self, data_path, file_path, modal, transform=None):\n",
    "        with open(file_path, 'r') as f:\n",
    "            self.paths = [os.path.join(data_path, x.strip()) for x in f.readlines()]\n",
    "        self.transform = transform\n",
    "        #\n",
    "        self.modal_list = ['flair', 't1ce', 't1', 't2']\n",
    "        self.modal = modal\n",
    "\n",
    "    def __getitem__(self, item):\n",
    "        h5f = h5py.File(self.paths[item], 'r')\n",
    "        image = h5f['image'][:]\n",
    "        label = h5f['label'][:]\n",
    "        # [0,1,2,4] -> [0,1,2,3]\n",
    "        label[label == 4] = 3\n",
    "        # print(image.shape)\n",
    "        sample = {'image': image, 'label': label}\n",
    "        if self.transform:\n",
    "            sample = self.transform(sample)\n",
    "\n",
    "        index = self.modal_list.index(self.modal)\n",
    "        single_modal_img = sample['image'][index].unsqueeze(dim=0)\n",
    "\n",
    "        return single_modal_img, sample['label']\n",
    "\n",
    "    def __len__(self):\n",
    "        return len(self.paths)\n",
    "\n",
    "    def collate(self, batch):\n",
    "        return [torch.cat(v) for v in zip(*batch)]"
   ],
   "metadata": {
    "collapsed": false,
    "ExecuteTime": {
     "end_time": "2024-03-25T00:29:49.229561800Z",
     "start_time": "2024-03-25T00:29:49.210481500Z"
    }
   }
  },
  {
   "cell_type": "code",
   "execution_count": 5,
   "outputs": [],
   "source": [
    "data_path = '/mnt/sda3/yigedabuliu/lkq/data/Task01_BrainTumour/h5_datasets'\n",
    "train_txt = '/mnt/sda3/yigedabuliu/lkq/data/Task01_BrainTumour/train.txt'\n",
    "\n",
    "patch_size = (160, 160, 128)\n",
    "\n",
    "train_dataset = BraTS_SingleModal(data_path, train_txt, transform=transforms.Compose([\n",
    "    RandomRotFlip(),\n",
    "    RandomCrop(patch_size),\n",
    "    GaussianNoise(p=0.1),\n",
    "    ToTensor()\n",
    "]), modal='flair')"
   ],
   "metadata": {
    "collapsed": false,
    "ExecuteTime": {
     "end_time": "2024-03-25T00:29:52.012351800Z",
     "start_time": "2024-03-25T00:29:51.984244900Z"
    }
   }
  },
  {
   "cell_type": "code",
   "execution_count": 6,
   "outputs": [],
   "source": [
    "img, label = train_dataset[0]"
   ],
   "metadata": {
    "collapsed": false,
    "ExecuteTime": {
     "end_time": "2024-03-25T00:29:55.362559300Z",
     "start_time": "2024-03-25T00:29:54.814376800Z"
    }
   }
  },
  {
   "cell_type": "code",
   "execution_count": 7,
   "outputs": [
    {
     "data": {
      "text/plain": "torch.Size([1, 160, 160, 128])"
     },
     "execution_count": 7,
     "metadata": {},
     "output_type": "execute_result"
    }
   ],
   "source": [
    "img.shape"
   ],
   "metadata": {
    "collapsed": false,
    "ExecuteTime": {
     "end_time": "2024-03-25T00:29:56.373403300Z",
     "start_time": "2024-03-25T00:29:56.366366700Z"
    }
   }
  },
  {
   "cell_type": "code",
   "execution_count": 8,
   "outputs": [],
   "source": [
    "modal = 't1ce'\n",
    "modal_list = ['flair', 't1ce', 't1', 't2']"
   ],
   "metadata": {
    "collapsed": false,
    "ExecuteTime": {
     "end_time": "2024-03-25T00:29:58.448281500Z",
     "start_time": "2024-03-25T00:29:58.434713300Z"
    }
   }
  },
  {
   "cell_type": "code",
   "execution_count": 25,
   "outputs": [
    {
     "data": {
      "text/plain": "1"
     },
     "execution_count": 25,
     "metadata": {},
     "output_type": "execute_result"
    }
   ],
   "source": [
    "modal_list.index(modal)"
   ],
   "metadata": {
    "collapsed": false,
    "ExecuteTime": {
     "end_time": "2024-03-22T08:42:41.878319700Z",
     "start_time": "2024-03-22T08:42:41.863857500Z"
    }
   }
  },
  {
   "cell_type": "code",
   "execution_count": null,
   "outputs": [],
   "source": [],
   "metadata": {
    "collapsed": false
   }
  }
 ],
 "metadata": {
  "kernelspec": {
   "name": "brats-unet",
   "language": "python",
   "display_name": "brats-unet"
  },
  "language_info": {
   "codemirror_mode": {
    "name": "ipython",
    "version": 2
   },
   "file_extension": ".py",
   "mimetype": "text/x-python",
   "name": "python",
   "nbconvert_exporter": "python",
   "pygments_lexer": "ipython2",
   "version": "2.7.6"
  }
 },
 "nbformat": 4,
 "nbformat_minor": 0
}
