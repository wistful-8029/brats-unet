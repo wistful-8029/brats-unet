{
 "cells": [
  {
   "cell_type": "code",
   "execution_count": 1,
   "metadata": {
    "collapsed": true,
    "ExecuteTime": {
     "end_time": "2024-03-25T03:13:11.964022300Z",
     "start_time": "2024-03-25T03:13:10.944092100Z"
    }
   },
   "outputs": [
    {
     "data": {
      "text/plain": "'/mnt/sda3/yigedabuliu/lkq/brats-unet'"
     },
     "execution_count": 1,
     "metadata": {},
     "output_type": "execute_result"
    }
   ],
   "source": [
    "import h5py\n",
    "import os\n",
    "import numpy as np\n",
    "import SimpleITK as sitk\n",
    "from tqdm import tqdm\n",
    "\n",
    "os.chdir('/mnt/sda3/yigedabuliu/lkq/brats-unet/')\n",
    "os.getcwd()"
   ]
  },
  {
   "cell_type": "code",
   "execution_count": 77,
   "outputs": [],
   "source": [
    "from torch.utils.data import Dataset\n",
    "from torchvision.transforms import transforms\n",
    "from torch.utils.data import DataLoader\n",
    "from BraTS import *\n",
    "from tqdm import tqdm\n",
    "import matplotlib.pyplot as plt"
   ],
   "metadata": {
    "collapsed": false,
    "ExecuteTime": {
     "end_time": "2024-03-25T05:04:12.233758400Z",
     "start_time": "2024-03-25T05:04:12.227762200Z"
    }
   }
  },
  {
   "cell_type": "code",
   "execution_count": 78,
   "outputs": [],
   "source": [
    "# T1DUAL包含两种类型的图像，T2SPIR包含一种类型的图像\n",
    "modalities = ['MR_T1DUAL', 'MR_T2SPIR']\n",
    "\n",
    "# 来自definitions.txt\n",
    "MR_Train_sets = [1, 2, 3, 5, 8, 10, 13, 15, 19, 20, 21, 22, 31, 32, 33, 34, 36, 37, 38, 39]\n",
    "MR_Test_Sets = [4, 6, 7, 9, 11, 12, 14, 16, 17, 18, 23, 24, 25, 26, 27, 28, 29, 30, 35, 40]\n"
   ],
   "metadata": {
    "collapsed": false,
    "ExecuteTime": {
     "end_time": "2024-03-25T05:04:12.870820500Z",
     "start_time": "2024-03-25T05:04:12.851814100Z"
    }
   }
  },
  {
   "cell_type": "code",
   "execution_count": 80,
   "outputs": [
    {
     "name": "stderr",
     "output_type": "stream",
     "text": [
      "100%|███████████████████████████████████████████████████████████████████████████████████| 20/20 [00:04<00:00,  4.70it/s]\n"
     ]
    }
   ],
   "source": [
    "# 处理 MR_T1DUAL_InPhase 训练集\n",
    "MR_T1DUAL_PATH = '/mnt/sda3/yigedabuliu/lkq/data/MR/CHAOS/Train_Sets_nifti/MR_T1DUAL/'\n",
    "\n",
    "out_MR_T1DUAL_InPhase_PATH = '/mnt/sda3/yigedabuliu/lkq/data/MR/CHAOS/h5_datasets/MR_T1DUAL_InPhase/Train/'\n",
    "\n",
    "T1DUAL_Type = ['InPhase', 'OutPhase']\n",
    "\n",
    "l = len(MR_Train_sets)\n",
    "\n",
    "for i in tqdm(range(l)):\n",
    "    img_name = str(MR_Train_sets[i]) + '_' + 'image_T1DUAL_InPhase' + '.nii.gz'\n",
    "    seg_name = str(MR_Train_sets[i]) + '_' + 'segmentation_T1DUAL.nii.gz'\n",
    "    # H,W,D\n",
    "    label = sitk.GetArrayFromImage(sitk.ReadImage(MR_T1DUAL_PATH + seg_name)).transpose(1, 2, 0)\n",
    "\n",
    "    # (D,H,W) -> (H,W,D)\n",
    "    img = sitk.GetArrayFromImage(sitk.ReadImage(MR_T1DUAL_PATH + img_name)).transpose(1, 2, 0)\n",
    "\n",
    "    label = label.astype(np.uint8)\n",
    "    img = np.expand_dims(img.astype(np.float32), axis=0)\n",
    "\n",
    "    # 保存文件名\n",
    "    output = str(MR_Train_sets[i]) + '_' + 'h5_T1DUAL_InPhase.h5'\n",
    "\n",
    "    f = h5py.File(out_MR_T1DUAL_InPhase_PATH + output, 'w')\n",
    "    f.create_dataset('image', data=img, compression=\"gzip\")\n",
    "    f.create_dataset('label', data=label, compression=\"gzip\")\n",
    "    f.close()\n",
    "\n",
    "\n"
   ],
   "metadata": {
    "collapsed": false,
    "ExecuteTime": {
     "end_time": "2024-03-25T05:05:26.193577700Z",
     "start_time": "2024-03-25T05:05:21.931309100Z"
    }
   }
  },
  {
   "cell_type": "code",
   "execution_count": 81,
   "outputs": [
    {
     "name": "stderr",
     "output_type": "stream",
     "text": [
      "100%|███████████████████████████████████████████████████████████████████████████████████| 20/20 [00:04<00:00,  4.78it/s]\n"
     ]
    }
   ],
   "source": [
    "# 处理 MR_T1DUAL_OutPhase 训练集\n",
    "MR_T1DUAL_PATH = '/mnt/sda3/yigedabuliu/lkq/data/MR/CHAOS/Train_Sets_nifti/MR_T1DUAL/'\n",
    "\n",
    "out_MR_T1DUAL_OutPhase_PATH = '/mnt/sda3/yigedabuliu/lkq/data/MR/CHAOS/h5_datasets/MR_T1DUAL_OutPhase/Train/'\n",
    "\n",
    "l = len(MR_Train_sets)\n",
    "\n",
    "for i in tqdm(range(l)):\n",
    "    img_name = str(MR_Train_sets[i]) + '_' + 'image_T1DUAL_OutPhase' + '.nii.gz'\n",
    "    seg_name = str(MR_Train_sets[i]) + '_' + 'segmentation_T1DUAL.nii.gz'\n",
    "    # H,W,D\n",
    "    label = sitk.GetArrayFromImage(sitk.ReadImage(MR_T1DUAL_PATH + seg_name)).transpose(1, 2, 0)\n",
    "\n",
    "    # (D,H,W) -> (H,W,D)\n",
    "    img = sitk.GetArrayFromImage(sitk.ReadImage(MR_T1DUAL_PATH + img_name)).transpose(1, 2, 0)\n",
    "\n",
    "    label = label.astype(np.uint8)\n",
    "    img = np.expand_dims(img.astype(np.float32), axis=0)\n",
    "\n",
    "    # 保存文件名\n",
    "    output = str(MR_Train_sets[i]) + '_' + 'h5_T1DUAL_OutPhase.h5'\n",
    "\n",
    "    f = h5py.File(out_MR_T1DUAL_OutPhase_PATH + output, 'w')\n",
    "    f.create_dataset('image', data=img, compression=\"gzip\")\n",
    "    f.create_dataset('label', data=label, compression=\"gzip\")\n",
    "    f.close()\n",
    "\n",
    "\n"
   ],
   "metadata": {
    "collapsed": false,
    "ExecuteTime": {
     "end_time": "2024-03-25T05:06:49.417066800Z",
     "start_time": "2024-03-25T05:06:45.255570900Z"
    }
   }
  },
  {
   "cell_type": "code",
   "execution_count": 85,
   "outputs": [
    {
     "name": "stderr",
     "output_type": "stream",
     "text": [
      "100%|███████████████████████████████████████████████████████████████████████████████████| 20/20 [00:04<00:00,  4.39it/s]\n"
     ]
    }
   ],
   "source": [
    "# 处理 MR_T2SPIR 训练集\n",
    "\n",
    "MR_T2SPIR_PATH = '/mnt/sda3/yigedabuliu/lkq/data/MR/CHAOS/Train_Sets_nifti/MR_T2SPIR/'\n",
    "\n",
    "out_MR_T2SPIR_PATH = '/mnt/sda3/yigedabuliu/lkq/data/MR/CHAOS/h5_datasets/MR_T2SPIR/Train/'\n",
    "\n",
    "if not os.path.exists(out_MR_T2SPIR_PATH):\n",
    "    os.makedirs(out_MR_T2SPIR_PATH)\n",
    "\n",
    "l = len(MR_Train_sets)\n",
    "\n",
    "for i in tqdm(range(l)):\n",
    "    img_name = str(MR_Train_sets[i]) + '_' + 'image_T2SPIR' + '.nii.gz'\n",
    "    seg_name = str(MR_Train_sets[i]) + '_' + 'segmentation_T2SPIR.nii.gz'\n",
    "    # H,W,D\n",
    "    label = sitk.GetArrayFromImage(sitk.ReadImage(MR_T2SPIR_PATH + seg_name)).transpose(1, 2, 0)\n",
    "\n",
    "    # (D,H,W) -> (H,W,D)\n",
    "    img = sitk.GetArrayFromImage(sitk.ReadImage(MR_T2SPIR_PATH + img_name)).transpose(1, 2, 0)\n",
    "\n",
    "    label = label.astype(np.uint8)\n",
    "    img = np.expand_dims(img.astype(np.float32), axis=0)\n",
    "\n",
    "    # 保存文件名\n",
    "    output = str(MR_Train_sets[i]) + '_' + 'h5_T2SPIR.h5'\n",
    "\n",
    "    f = h5py.File(out_MR_T2SPIR_PATH + output, 'w')\n",
    "    f.create_dataset('image', data=img, compression=\"gzip\")\n",
    "    f.create_dataset('label', data=label, compression=\"gzip\")\n",
    "    f.close()"
   ],
   "metadata": {
    "collapsed": false,
    "ExecuteTime": {
     "end_time": "2024-03-25T05:11:47.144598100Z",
     "start_time": "2024-03-25T05:11:42.581403400Z"
    }
   }
  },
  {
   "cell_type": "code",
   "execution_count": 92,
   "outputs": [
    {
     "name": "stderr",
     "output_type": "stream",
     "text": [
      "100%|███████████████████████████████████████████████████████████████████████████████████| 20/20 [00:04<00:00,  4.05it/s]\n"
     ]
    }
   ],
   "source": [
    "# 处理 MR_T1DUAL_InPhase 测试集\n",
    "MR_T1DUAL_PATH = '/mnt/sda3/yigedabuliu/lkq/data/MR/CHAOS/Test_Sets_nifti/MR_T1DUAL/'\n",
    "\n",
    "out_MR_T1DUAL_InPhase_PATH = '/mnt/sda3/yigedabuliu/lkq/data/MR/CHAOS/h5_datasets/MR_T1DUAL_InPhase/Test/'\n",
    "\n",
    "T1DUAL_Type = ['InPhase', 'OutPhase']\n",
    "\n",
    "l = len(MR_Test_Sets)\n",
    "\n",
    "for i in tqdm(range(l)):\n",
    "    img_name = str(MR_Test_Sets[i]) + '_' + 'image_T1DUAL_InPhase' + '.nii.gz'\n",
    "    # seg_name = str(MR_Train_sets[i]) + '_' + 'segmentation_T1DUAL.nii.gz'\n",
    "    # H,W,D\n",
    "    # label = sitk.GetArrayFromImage(sitk.ReadImage(MR_T1DUAL_PATH + seg_name)).transpose(1, 2, 0)\n",
    "\n",
    "    # (D,H,W) -> (H,W,D)\n",
    "    img = sitk.GetArrayFromImage(sitk.ReadImage(MR_T1DUAL_PATH + img_name)).transpose(1, 2, 0)\n",
    "\n",
    "    # label = label.astype(np.uint8)\n",
    "    img = np.expand_dims(img.astype(np.float32), axis=0)\n",
    "\n",
    "    # 保存文件名\n",
    "    output = str(MR_Test_Sets[i]) + '_' + 'h5_T1DUAL_InPhase.h5'\n",
    "\n",
    "    f = h5py.File(out_MR_T1DUAL_InPhase_PATH + output, 'w')\n",
    "    f.create_dataset('image', data=img, compression=\"gzip\")\n",
    "    # f.create_dataset('label', data=label, compression=\"gzip\")\n",
    "    f.close()\n"
   ],
   "metadata": {
    "collapsed": false,
    "ExecuteTime": {
     "end_time": "2024-03-26T02:35:12.884792600Z",
     "start_time": "2024-03-26T02:35:07.875067300Z"
    }
   }
  },
  {
   "cell_type": "code",
   "execution_count": 94,
   "outputs": [
    {
     "name": "stderr",
     "output_type": "stream",
     "text": [
      "100%|███████████████████████████████████████████████████████████████████████████████████| 20/20 [00:04<00:00,  4.12it/s]\n"
     ]
    }
   ],
   "source": [
    "# 处理 MR_T1DUAL_OutPhase 测试集\n",
    "MR_T1DUAL_PATH = '/mnt/sda3/yigedabuliu/lkq/data/MR/CHAOS/Test_Sets_nifti/MR_T1DUAL/'\n",
    "\n",
    "out_MR_T1DUAL_OutPhase_PATH = '/mnt/sda3/yigedabuliu/lkq/data/MR/CHAOS/h5_datasets/MR_T1DUAL_OutPhase/Test/'\n",
    "\n",
    "\n",
    "\n",
    "l = len(MR_Test_Sets)\n",
    "\n",
    "for i in tqdm(range(l)):\n",
    "    img_name = str(MR_Test_Sets[i]) + '_' + 'image_T1DUAL_OutPhase' + '.nii.gz'\n",
    "    # seg_name = str(MR_Train_sets[i]) + '_' + 'segmentation_T1DUAL.nii.gz'\n",
    "    # H,W,D\n",
    "    # label = sitk.GetArrayFromImage(sitk.ReadImage(MR_T1DUAL_PATH + seg_name)).transpose(1, 2, 0)\n",
    "\n",
    "    # (D,H,W) -> (H,W,D)\n",
    "    img = sitk.GetArrayFromImage(sitk.ReadImage(MR_T1DUAL_PATH + img_name)).transpose(1, 2, 0)\n",
    "\n",
    "    # label = label.astype(np.uint8)\n",
    "    img = np.expand_dims(img.astype(np.float32), axis=0)\n",
    "\n",
    "    # 保存文件名\n",
    "    output = str(MR_Test_Sets[i]) + '_' + 'h5_T1DUAL_OutPhase.h5'\n",
    "\n",
    "    f = h5py.File(out_MR_T1DUAL_OutPhase_PATH + output, 'w')\n",
    "    f.create_dataset('image', data=img, compression=\"gzip\")\n",
    "    # f.create_dataset('label', data=label, compression=\"gzip\")\n",
    "    f.close()\n"
   ],
   "metadata": {
    "collapsed": false,
    "ExecuteTime": {
     "end_time": "2024-03-26T02:37:15.566945400Z",
     "start_time": "2024-03-26T02:37:10.698059100Z"
    }
   }
  },
  {
   "cell_type": "code",
   "execution_count": 96,
   "outputs": [
    {
     "name": "stderr",
     "output_type": "stream",
     "text": [
      "100%|███████████████████████████████████████████████████████████████████████████████████| 20/20 [00:05<00:00,  3.51it/s]\n"
     ]
    }
   ],
   "source": [
    "# 处理 MR_T2SPIR 测试集\n",
    "MR_T2SPIR = '/mnt/sda3/yigedabuliu/lkq/data/MR/CHAOS/Test_Sets_nifti/MR_T2SPIR/'\n",
    "\n",
    "out_MR_T2SPIR_PATH = '/mnt/sda3/yigedabuliu/lkq/data/MR/CHAOS/h5_datasets/MR_T2SPIR/Test/'\n",
    "\n",
    "\n",
    "\n",
    "l = len(MR_Test_Sets)\n",
    "\n",
    "for i in tqdm(range(l)):\n",
    "    img_name = str(MR_Test_Sets[i]) + '_' + 'image_T2SPIR' + '.nii.gz'\n",
    "    # seg_name = str(MR_Train_sets[i]) + '_' + 'segmentation_T1DUAL.nii.gz'\n",
    "    # H,W,D\n",
    "    # label = sitk.GetArrayFromImage(sitk.ReadImage(MR_T1DUAL_PATH + seg_name)).transpose(1, 2, 0)\n",
    "\n",
    "    # (D,H,W) -> (H,W,D)\n",
    "    img = sitk.GetArrayFromImage(sitk.ReadImage(MR_T2SPIR + img_name)).transpose(1, 2, 0)\n",
    "\n",
    "    # label = label.astype(np.uint8)\n",
    "    img = np.expand_dims(img.astype(np.float32), axis=0)\n",
    "\n",
    "    # 保存文件名\n",
    "    output = str(MR_Test_Sets[i]) + '_' + 'h5_T2SPIR.h5'\n",
    "\n",
    "    f = h5py.File(out_MR_T2SPIR_PATH + output, 'w')\n",
    "    f.create_dataset('image', data=img, compression=\"gzip\")\n",
    "    # f.create_dataset('label', data=label, compression=\"gzip\")\n",
    "    f.close()\n"
   ],
   "metadata": {
    "collapsed": false,
    "ExecuteTime": {
     "end_time": "2024-03-26T02:38:03.111881100Z",
     "start_time": "2024-03-26T02:37:57.405859400Z"
    }
   }
  },
  {
   "cell_type": "code",
   "execution_count": null,
   "outputs": [],
   "source": [],
   "metadata": {
    "collapsed": false
   }
  }
 ],
 "metadata": {
  "kernelspec": {
   "name": "brats-unet",
   "language": "python",
   "display_name": "brats-unet"
  },
  "language_info": {
   "codemirror_mode": {
    "name": "ipython",
    "version": 2
   },
   "file_extension": ".py",
   "mimetype": "text/x-python",
   "name": "python",
   "nbconvert_exporter": "python",
   "pygments_lexer": "ipython2",
   "version": "2.7.6"
  }
 },
 "nbformat": 4,
 "nbformat_minor": 0
}
