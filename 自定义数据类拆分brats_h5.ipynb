{
 "cells": [
  {
   "cell_type": "code",
   "execution_count": 34,
   "metadata": {
    "collapsed": true,
    "ExecuteTime": {
     "end_time": "2024-03-22T05:02:49.270021200Z",
     "start_time": "2024-03-22T05:02:49.227534800Z"
    }
   },
   "outputs": [
    {
     "data": {
      "text/plain": "'/mnt/sda3/yigedabuliu/lkq/brats-unet'"
     },
     "execution_count": 34,
     "metadata": {},
     "output_type": "execute_result"
    }
   ],
   "source": [
    "import h5py\n",
    "import os\n",
    "import numpy as np\n",
    "import SimpleITK as sitk\n",
    "from tqdm import tqdm\n",
    "\n",
    "os.getcwd()"
   ]
  },
  {
   "cell_type": "code",
   "execution_count": 35,
   "outputs": [],
   "source": [
    "# 读取h5\n",
    "h5_root_path = '/mnt/sda3/yigedabuliu/lkq/data/Task01_BrainTumour/h5_datasets/'\n",
    "h5_lists = os.listdir(h5_root_path)"
   ],
   "metadata": {
    "collapsed": false,
    "ExecuteTime": {
     "end_time": "2024-03-22T05:02:49.439987600Z",
     "start_time": "2024-03-22T05:02:49.430690800Z"
    }
   }
  },
  {
   "cell_type": "code",
   "execution_count": 36,
   "outputs": [],
   "source": [
    "h5_save_root = '/mnt/sda3/yigedabuliu/lkq/data/Task01_BrainTumour/single_modal_h5_datasets/'\n",
    "modalities = ['flair', 't1ce', 't1', 't2']"
   ],
   "metadata": {
    "collapsed": false,
    "ExecuteTime": {
     "end_time": "2024-03-22T05:02:50.381621700Z",
     "start_time": "2024-03-22T05:02:50.379289200Z"
    }
   }
  },
  {
   "cell_type": "code",
   "execution_count": 43,
   "outputs": [
    {
     "name": "stderr",
     "output_type": "stream",
     "text": [
      "100%|██████████| 1251/1251 [26:25<00:00,  1.27s/it]\n"
     ]
    }
   ],
   "source": [
    "for h5 in tqdm(h5_lists):\n",
    "    h5f = h5py.File(h5_root_path + h5, 'r')\n",
    "    image = h5f['image'][:]\n",
    "    label = h5f['label'][:]\n",
    "\n",
    "    # 先生成1个模态\n",
    "    for i in range(1,4,1):\n",
    "        save_name = h5.split('.')[0] + '.h5'\n",
    "        save_path = h5_save_root + modalities[i] + '/'\n",
    "        # 扩展维度，形状为[1,H,W,D]\n",
    "        img_file = np.expand_dims(image[i], axis=0)\n",
    "        # 保存h5文件\n",
    "        f = h5py.File(save_path + save_name, 'w')\n",
    "        f.create_dataset('image', data=img_file, compression=\"gzip\")\n",
    "        f.create_dataset('label', data=label, compression=\"gzip\")\n",
    "        f.close()\n"
   ],
   "metadata": {
    "collapsed": false,
    "ExecuteTime": {
     "end_time": "2024-03-22T07:26:09.470874500Z",
     "start_time": "2024-03-22T06:59:43.845856500Z"
    }
   }
  },
  {
   "cell_type": "code",
   "execution_count": 38,
   "outputs": [
    {
     "data": {
      "text/plain": "(240, 240, 155)"
     },
     "execution_count": 38,
     "metadata": {},
     "output_type": "execute_result"
    }
   ],
   "source": [
    "p = '/mnt/sda3/yigedabuliu/lkq/data/Task01_BrainTumour/single_modal_h5_datasets/flair/BraTS2021_00000_mri_norm2.h5'\n",
    "h5f = h5py.File(p, 'r')\n",
    "image = h5f['image'][:]\n",
    "label = h5f['label'][:]\n",
    "image.shape"
   ],
   "metadata": {
    "collapsed": false,
    "ExecuteTime": {
     "end_time": "2024-03-22T06:42:25.809516600Z",
     "start_time": "2024-03-22T06:42:25.575177500Z"
    }
   }
  },
  {
   "cell_type": "code",
   "execution_count": 42,
   "outputs": [
    {
     "name": "stdout",
     "output_type": "stream",
     "text": [
      "1\n",
      "2\n",
      "3\n"
     ]
    }
   ],
   "source": [
    "for i in range(1,4,1):\n",
    "    print(i)"
   ],
   "metadata": {
    "collapsed": false,
    "ExecuteTime": {
     "end_time": "2024-03-22T06:59:37.778588700Z",
     "start_time": "2024-03-22T06:59:37.732177100Z"
    }
   }
  },
  {
   "cell_type": "code",
   "execution_count": null,
   "outputs": [],
   "source": [],
   "metadata": {
    "collapsed": false
   }
  }
 ],
 "metadata": {
  "kernelspec": {
   "name": "brats-unet",
   "language": "python",
   "display_name": "brats-unet"
  },
  "language_info": {
   "codemirror_mode": {
    "name": "ipython",
    "version": 2
   },
   "file_extension": ".py",
   "mimetype": "text/x-python",
   "name": "python",
   "nbconvert_exporter": "python",
   "pygments_lexer": "ipython2",
   "version": "2.7.6"
  }
 },
 "nbformat": 4,
 "nbformat_minor": 0
}
