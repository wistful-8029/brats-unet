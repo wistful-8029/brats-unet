{
 "cells": [
  {
   "cell_type": "code",
   "execution_count": 34,
   "metadata": {
    "collapsed": true,
    "ExecuteTime": {
     "end_time": "2024-03-22T05:02:49.270021200Z",
     "start_time": "2024-03-22T05:02:49.227534800Z"
    }
   },
   "outputs": [
    {
     "data": {
      "text/plain": "'/mnt/sda3/yigedabuliu/lkq/brats-unet'"
     },
     "execution_count": 34,
     "metadata": {},
     "output_type": "execute_result"
    }
   ],
   "source": [
    "import h5py\n",
    "import os\n",
    "import numpy as np\n",
    "import SimpleITK as sitk\n",
    "from tqdm import tqdm\n",
    "\n",
    "os.getcwd()"
   ]
  },
  {
   "cell_type": "code",
   "execution_count": 35,
   "outputs": [],
   "source": [
    "# 读取h5\n",
    "h5_root_path = '/mnt/sda3/yigedabuliu/lkq/data/Task01_BrainTumour/h5_datasets/'\n",
    "h5_lists = os.listdir(h5_root_path)"
   ],
   "metadata": {
    "collapsed": false,
    "ExecuteTime": {
     "end_time": "2024-03-22T05:02:49.439987600Z",
     "start_time": "2024-03-22T05:02:49.430690800Z"
    }
   }
  },
  {
   "cell_type": "code",
   "execution_count": 36,
   "outputs": [],
   "source": [
    "h5_save_root = '/mnt/sda3/yigedabuliu/lkq/data/Task01_BrainTumour/single_modal_h5_datasets/'\n",
    "modalities = ['flair', 't1ce', 't1', 't2']"
   ],
   "metadata": {
    "collapsed": false,
    "ExecuteTime": {
     "end_time": "2024-03-22T05:02:50.381621700Z",
     "start_time": "2024-03-22T05:02:50.379289200Z"
    }
   }
  },
  {
   "cell_type": "code",
   "execution_count": null,
   "outputs": [
    {
     "name": "stderr",
     "output_type": "stream",
     "text": [
      " 78%|███████▊  | 981/1251 [1:06:57<28:01,  6.23s/it]"
     ]
    }
   ],
   "source": [
    "for h5 in tqdm(h5_lists):\n",
    "    h5f = h5py.File(h5_root_path + h5, 'r')\n",
    "    image = h5f['image'][:]\n",
    "    label = h5f['label'][:]\n",
    "\n",
    "    # 读取每个模态并单独保存\n",
    "    for i in range(4):\n",
    "        save_name = h5.split('.')[0] + '.h5'\n",
    "        save_path = h5_save_root + modalities[i] + '/'\n",
    "        img_file = np.expand_dims(image[i], axis=0)\n",
    "\n",
    "        f = h5py.File(save_path + save_name, 'w')\n",
    "        f.create_dataset('image', data=image[i], compression=\"gzip\")\n",
    "        f.create_dataset('label', data=label, compression=\"gzip\")\n",
    "        f.close()\n"
   ],
   "metadata": {
    "collapsed": false,
    "is_executing": true,
    "ExecuteTime": {
     "start_time": "2024-03-22T05:02:56.273486800Z"
    }
   }
  },
  {
   "cell_type": "code",
   "execution_count": null,
   "outputs": [],
   "source": [],
   "metadata": {
    "collapsed": false
   }
  }
 ],
 "metadata": {
  "kernelspec": {
   "name": "brats-unet",
   "language": "python",
   "display_name": "brats-unet"
  },
  "language_info": {
   "codemirror_mode": {
    "name": "ipython",
    "version": 2
   },
   "file_extension": ".py",
   "mimetype": "text/x-python",
   "name": "python",
   "nbconvert_exporter": "python",
   "pygments_lexer": "ipython2",
   "version": "2.7.6"
  }
 },
 "nbformat": 4,
 "nbformat_minor": 0
}
